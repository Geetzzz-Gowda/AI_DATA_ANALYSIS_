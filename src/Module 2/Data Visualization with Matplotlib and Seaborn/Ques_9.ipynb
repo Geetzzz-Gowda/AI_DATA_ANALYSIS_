{
 "cells": [
  {
   "cell_type": "code",
   "execution_count": null,
   "metadata": {},
   "outputs": [
    {
     "ename": "",
     "evalue": "",
     "output_type": "error",
     "traceback": [
      "\u001b[1;31mFailed to start the Kernel. \n",
      "\u001b[1;31mzmq.error.ZMQError: Address already in use (addr='tcp://127.0.0.1:9012'). \n",
      "\u001b[1;31mView Jupyter <a href='command:jupyter.viewOutput'>log</a> for further details."
     ]
    }
   ],
   "source": [
    "# Matplotlib Subplots for Multiple Data Sets\n",
    "# Description: Create subplots using Matplotlib to display the bar plot for product sales and the scatter plot for\n",
    "# height vs. weight side by side."
   ]
  },
  {
   "cell_type": "code",
   "execution_count": null,
   "metadata": {},
   "outputs": [],
   "source": [
    "import matplotlib.pyplot as plt\n",
    "\n",
    "# Data\n",
    "products = ['A', 'B', 'C', 'D', 'E']\n",
    "sales = [120, 340, 230, 150, 300]\n",
    "\n",
    "height = [160, 170, 165, 180, 175]\n",
    "weight = [55, 65, 60, 80, 76]\n",
    "\n",
    "# Create figure and two subplots side by side\n",
    "fig, (ax1, ax2) = plt.subplots(1, 2, figsize=(12, 5))\n",
    "\n",
    "# Bar plot for sales\n",
    "ax1.bar(products, sales, color='skyblue')\n",
    "ax1.set_title('Sales Comparison by Product')\n",
    "ax1.set_xlabel('Product')\n",
    "ax1.set_ylabel('Sales')\n",
    "ax1.grid(True, linestyle='--', alpha=0.6)\n",
    "\n",
    "# Scatter plot for height vs weight\n",
    "ax2.scatter(height, weight, color='salmon')\n",
    "ax2.set_title('Height vs Weight')\n",
    "ax2.set_xlabel('Height (cm)')\n",
    "ax2.set_ylabel('Weight (kg)')\n",
    "ax2.grid(True, linestyle='--', alpha=0.6)\n",
    "\n",
    "plt.tight_layout()\n",
    "plt.show()\n"
   ]
  }
 ],
 "metadata": {
  "kernelspec": {
   "display_name": "Python 3",
   "language": "python",
   "name": "python3"
  },
  "language_info": {
   "name": "python",
   "version": "3.10.12"
  }
 },
 "nbformat": 4,
 "nbformat_minor": 2
}
