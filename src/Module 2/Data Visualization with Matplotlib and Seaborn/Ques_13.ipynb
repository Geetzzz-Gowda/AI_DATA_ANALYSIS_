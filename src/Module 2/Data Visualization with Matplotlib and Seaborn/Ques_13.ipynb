{
 "cells": [
  {
   "cell_type": "code",
   "execution_count": null,
   "metadata": {},
   "outputs": [],
   "source": [
    "# Customizing Plots with Seaborn - Boxplot\n",
    "# Objective: Customize a boxplot with Seaborn to show the distribution of petal lengths by\n",
    "# species."
   ]
  },
  {
   "cell_type": "code",
   "execution_count": null,
   "metadata": {},
   "outputs": [],
   "source": [
    "import seaborn as sns\n",
    "import matplotlib.pyplot as plt\n",
    "\n",
    "# Load iris dataset\n",
    "iris = sns.load_dataset('iris')\n",
    "\n",
    "# Create boxplot of petal_length by species with customization\n",
    "sns.boxplot(\n",
    "    data=iris,\n",
    "    x='species',\n",
    "    y='petal_length',\n",
    "    palette='Set2',\n",
    "    linewidth=2,\n",
    "    fliersize=6,\n",
    "    notch=True\n",
    ")\n",
    "\n",
    "plt.title('Distribution of Petal Lengths by Species')\n",
    "plt.xlabel('Species')\n",
    "plt.ylabel('Petal Length (cm)')\n",
    "plt.grid(axis='y', linestyle='--', alpha=0.7)\n",
    "\n",
    "plt.tight_layout()\n",
    "plt.show()\n"
   ]
  }
 ],
 "metadata": {
  "kernelspec": {
   "display_name": "Python 3",
   "language": "python",
   "name": "python3"
  },
  "language_info": {
   "name": "python",
   "version": "3.10.12"
  }
 },
 "nbformat": 4,
 "nbformat_minor": 2
}
