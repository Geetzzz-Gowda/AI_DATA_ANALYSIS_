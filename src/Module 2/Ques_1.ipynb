{
 "cells": [
  {
   "cell_type": "code",
   "execution_count": 2,
   "metadata": {},
   "outputs": [
    {
     "name": "stdout",
     "output_type": "stream",
     "text": [
      "  Month   \"1958\"   \"1959\"   \"1960\"\n",
      "0   JAN      340      360      417\n",
      "1   FEB      318      342      391\n",
      "2   MAR      362      406      419\n",
      "3   APR      348      396      461\n",
      "4   MAY      363      420      472\n",
      "<class 'pandas.core.frame.DataFrame'>\n",
      "RangeIndex: 12 entries, 0 to 11\n",
      "Data columns (total 4 columns):\n",
      " #   Column   Non-Null Count  Dtype \n",
      "---  ------   --------------  ----- \n",
      " 0   Month    12 non-null     object\n",
      " 1    \"1958\"  12 non-null     int64 \n",
      " 2    \"1959\"  12 non-null     int64 \n",
      " 3    \"1960\"  12 non-null     int64 \n",
      "dtypes: int64(3), object(1)\n",
      "memory usage: 512.0+ bytes\n",
      "None\n"
     ]
    }
   ],
   "source": [
    "# Getting Started with Pandas\n",
    "# Objective: Introduce students to using Pandas for data analysis by loading data into Pandas\n",
    "# DataFrames.\n",
    "\n",
    "# Question 1: Importing Pandas and Loading a CSV File\n",
    "# 1. Open your Jupyter Notebook or a Python environment.\n",
    "# 2. Import the pandas library.\n",
    "# 3. Load a CSV file into a DataFrame.\n",
    "import pandas as pd\n",
    "url = 'https://people.sc.fsu.edu/~jburkardt/data/csv/airtravel.csv'\n",
    "df = pd.read_csv(url)\n",
    "\n",
    "\n",
    "\n",
    "# Question 2: Displaying the First Few Rows\n",
    "# 4. Use the head() method to display the first five rows of the DataFrame.\n",
    "print(df.head())\n",
    "\n",
    "\n",
    "\n",
    "\n",
    "# Question 3: Basic Data Information\n",
    "# 5. Use the info() method to get a concise summary of the DataFrame.\n",
    "print(df.info())\n",
    "\n",
    "\n",
    "\n"
   ]
  },
  {
   "cell_type": "code",
   "execution_count": 4,
   "metadata": {},
   "outputs": [
    {
     "name": "stdout",
     "output_type": "stream",
     "text": [
      "Month      object\n",
      " \"1958\"     int64\n",
      " \"1959\"     int64\n",
      " \"1960\"     int64\n",
      "dtype: object\n",
      "Index(['Month', ' \"1958\"', ' \"1959\"', ' \"1960\"'], dtype='object')\n",
      "  Month   \"1958\"   \"1959\"   \"1960\"\n",
      "0   JAN      340      360      417\n",
      "1   FEB      318      342      391\n",
      "2   MAR      362      406      419\n"
     ]
    }
   ],
   "source": [
    "# Data Inspection & Selection\n",
    "# Objective: Learn how to inspect data and select specific data points.\n",
    "\n",
    "# Question 1: Inspecting Column Data Types\n",
    "# 6. Use the dtypes attribute to inspect the data types of each column.\n",
    "\n",
    "print(df.dtypes)\n",
    "\n",
    "\n",
    "# Question 2: Selecting Columns\n",
    "# 7. Select a single column from the DataFrame.\n",
    "print(df.columns)\n",
    "\n",
    "\n",
    "\n",
    "\n",
    "# Question 3: Slicing Rows\n",
    "# 8. Select specific rows using slicing.\n",
    "\n",
    "\n",
    "print(df[0:3])\n",
    "\n"
   ]
  },
  {
   "cell_type": "code",
   "execution_count": 5,
   "metadata": {},
   "outputs": [
    {
     "name": "stdout",
     "output_type": "stream",
     "text": [
      "   Month   \"1958\"   \"1959\"   \"1960\"\n",
      "0    JAN      340      360      417\n",
      "1    FEB      318      342      391\n",
      "2    MAR      362      406      419\n",
      "3    APR      348      396      461\n",
      "4    MAY      363      420      472\n",
      "5    JUN      435      472      535\n",
      "6    JUL      491      548      622\n",
      "7    AUG      505      559      606\n",
      "8    SEP      404      463      508\n",
      "9    OCT      359      407      461\n",
      "10   NOV      310      362      390\n",
      "11   DEC      337      405      432\n",
      "Index(['Month', ' \"1958\"', ' \"1959\"', ' \"1960\"'], dtype='object')\n",
      "   Month   \"1958\"   \"1959\"   \"1960\"\n",
      "0    JAN      340      360      417\n",
      "1    FEB      318      342      391\n",
      "2    MAR      362      406      419\n",
      "3    APR      348      396      461\n",
      "4    MAY      363      420      472\n",
      "5    JUN      435      472      535\n",
      "6    JUL      491      548      622\n",
      "7    AUG      505      559      606\n",
      "8    SEP      404      463      508\n",
      "9    OCT      359      407      461\n",
      "10   NOV      310      362      390\n",
      "11   DEC      337      405      432\n"
     ]
    }
   ],
   "source": [
    "# Data Cleaning & Manipulation\n",
    "# Objective: Practice cleaning data and manipulating DataFrames.\n",
    "\n",
    "# Question 1: Handling Missing Values\n",
    "# 9. Use the fillna() method to fill missing values with a specific value.\n",
    "df_filled = df.fillna(0)\n",
    "print(df_filled)\n",
    "\n",
    "\n",
    "\n",
    "# QUestion 2: Renaming Columns\n",
    "# 10. Change the names of specific columns using rename().\n",
    "\n",
    "df_renamed = df.rename(columns={'1958': 'Year_1958', '1959': 'Year_1959'})\n",
    "print(df_renamed.columns)\n",
    "\n",
    "# Question 3: Dropping Duplicates\n",
    "# 11. Remove duplicate rows from the DataFrame.\n",
    "\n",
    "df_no_duplicates = df.drop_duplicates()\n",
    "print(df_no_duplicates)\n",
    "\n",
    "\n",
    "\n"
   ]
  },
  {
   "cell_type": "code",
   "execution_count": 6,
   "metadata": {},
   "outputs": [
    {
     "name": "stdout",
     "output_type": "stream",
     "text": [
      "       \"1958\"  \"1959\"  \"1960\"\n",
      "Month                        \n",
      "APR     348.0   396.0   461.0\n",
      "AUG     505.0   559.0   606.0\n",
      "DEC     337.0   405.0   432.0\n",
      "FEB     318.0   342.0   391.0\n",
      "JAN     340.0   360.0   417.0\n",
      "JUL     491.0   548.0   622.0\n",
      "JUN     435.0   472.0   535.0\n",
      "MAR     362.0   406.0   419.0\n",
      "MAY     363.0   420.0   472.0\n",
      "NOV     310.0   362.0   390.0\n",
      "OCT     359.0   407.0   461.0\n",
      "SEP     404.0   463.0   508.0\n",
      "      \"1958\"                \"1959\"                \"1960\"               \n",
      "        mean  sum  max  min   mean  sum  max  min   mean  sum  max  min\n",
      "Month                                                                  \n",
      "APR    348.0  348  348  348  396.0  396  396  396  461.0  461  461  461\n",
      "AUG    505.0  505  505  505  559.0  559  559  559  606.0  606  606  606\n",
      "DEC    337.0  337  337  337  405.0  405  405  405  432.0  432  432  432\n",
      "FEB    318.0  318  318  318  342.0  342  342  342  391.0  391  391  391\n",
      "JAN    340.0  340  340  340  360.0  360  360  360  417.0  417  417  417\n",
      "JUL    491.0  491  491  491  548.0  548  548  548  622.0  622  622  622\n",
      "JUN    435.0  435  435  435  472.0  472  472  472  535.0  535  535  535\n",
      "MAR    362.0  362  362  362  406.0  406  406  406  419.0  419  419  419\n",
      "MAY    363.0  363  363  363  420.0  420  420  420  472.0  472  472  472\n",
      "NOV    310.0  310  310  310  362.0  362  362  362  390.0  390  390  390\n",
      "OCT    359.0  359  359  359  407.0  407  407  407  461.0  461  461  461\n",
      "SEP    404.0  404  404  404  463.0  463  463  463  508.0  508  508  508\n"
     ]
    }
   ],
   "source": [
    "# Data Aggregation & Exporting\n",
    "# Objective: Aggregate data and export the results.\n",
    "\n",
    "# Question 1: Grouping and Aggregating Data\n",
    "# 12. Group data by a specific column and calculate the mean for each group.\n",
    "grouped_mean = df.groupby('Month').mean()\n",
    "print(grouped_mean)\n",
    "\n",
    "\n",
    "\n",
    "\n",
    "# Question 2: Exporting Data to CSV\n",
    "# 13. Export the DataFrame to a new CSV file.\n",
    "\n",
    "\n",
    "grouped_mean.to_csv('grouped_mean_airtravel.csv')\n",
    "\n",
    "\n",
    "# Question 3: Aggregating with Multiple Functions\n",
    "# 14. Apply several aggregate functions to the grouped data.\n",
    "\n",
    "\n",
    "\n",
    "grouped_agg = df.groupby('Month').agg(['mean', 'sum', 'max', 'min'])\n",
    "print(grouped_agg)\n"
   ]
  }
 ],
 "metadata": {
  "kernelspec": {
   "display_name": "Python 3",
   "language": "python",
   "name": "python3"
  },
  "language_info": {
   "codemirror_mode": {
    "name": "ipython",
    "version": 3
   },
   "file_extension": ".py",
   "mimetype": "text/x-python",
   "name": "python",
   "nbconvert_exporter": "python",
   "pygments_lexer": "ipython3",
   "version": "3.10.12"
  }
 },
 "nbformat": 4,
 "nbformat_minor": 2
}
