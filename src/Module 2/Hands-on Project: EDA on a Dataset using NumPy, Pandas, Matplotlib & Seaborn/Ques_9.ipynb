{
 "cells": [
  {
   "cell_type": "code",
   "execution_count": 1,
   "metadata": {},
   "outputs": [],
   "source": [
    "# Title: Feature Engineering for Classification\n",
    "# Description: Create a new feature that could help distinguish between species based on\n",
    "# logical assumptions and verify its utility."
   ]
  },
  {
   "cell_type": "code",
   "execution_count": 2,
   "metadata": {},
   "outputs": [
    {
     "name": "stdout",
     "output_type": "stream",
     "text": [
      "            count     mean       std   min     25%     50%    75%    max\n",
      "species                                                                 \n",
      "setosa       50.0   0.3656  0.181155  0.11  0.2800   0.300   0.42   0.96\n",
      "versicolor   50.0   5.7204  1.368403  3.30  4.8600   5.615   6.75   8.64\n",
      "virginica    50.0  11.2962  2.157412  7.50  9.7175  11.445  12.79  15.87\n"
     ]
    }
   ],
   "source": [
    "import seaborn as sns\n",
    "import pandas as pd\n",
    "iris = sns.load_dataset('iris')\n",
    "iris['petal_area'] = iris['petal_length'] * iris['petal_width']\n",
    "print(iris.groupby('species')['petal_area'].describe())"
   ]
  }
 ],
 "metadata": {
  "kernelspec": {
   "display_name": "Python 3",
   "language": "python",
   "name": "python3"
  },
  "language_info": {
   "codemirror_mode": {
    "name": "ipython",
    "version": 3
   },
   "file_extension": ".py",
   "mimetype": "text/x-python",
   "name": "python",
   "nbconvert_exporter": "python",
   "pygments_lexer": "ipython3",
   "version": "3.10.12"
  }
 },
 "nbformat": 4,
 "nbformat_minor": 2
}
