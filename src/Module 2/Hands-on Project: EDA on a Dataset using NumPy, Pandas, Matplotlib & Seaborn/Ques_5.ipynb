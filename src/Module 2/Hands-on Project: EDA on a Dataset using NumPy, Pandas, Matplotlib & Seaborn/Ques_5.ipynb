{
 "cells": [
  {
   "cell_type": "code",
   "execution_count": null,
   "metadata": {},
   "outputs": [
    {
     "ename": "",
     "evalue": "",
     "output_type": "error",
     "traceback": [
      "\u001b[1;31mFailed to start the Kernel. \n",
      "\u001b[1;31mzmq.error.ZMQError: Address already in use (addr='tcp://127.0.0.1:9107'). \n",
      "\u001b[1;31mView Jupyter <a href='command:jupyter.viewOutput'>log</a> for further details."
     ]
    }
   ],
   "source": [
    "# Title: Data Cleaning using Pandas\n",
    "# Description: Check for missing values and handle them by imputing the median."
   ]
  },
  {
   "cell_type": "code",
   "execution_count": null,
   "metadata": {},
   "outputs": [],
   "source": [
    "import seaborn as sns\n",
    "import pandas as pd\n",
    "import numpy as np\n",
    "\n",
    "iris = sns.load_dataset('iris')\n",
    "\n",
    "# Introduce missing values for demonstration (optional)\n",
    "# iris.loc[iris.sample(frac=0.1).index, 'sepal_length'] = np.nan\n",
    "\n",
    "print(\"Missing values before imputation:\")\n",
    "print(iris.isnull().sum())\n",
    "\n",
    "median_value = iris['sepal_length'].median()\n",
    "iris['sepal_length'].fillna(median_value, inplace=True)\n",
    "\n",
    "print(\"\\nMissing values after imputation:\")\n",
    "print(iris.isnull().sum())\n"
   ]
  }
 ],
 "metadata": {
  "kernelspec": {
   "display_name": "Python 3",
   "language": "python",
   "name": "python3"
  },
  "language_info": {
   "name": "python",
   "version": "3.10.12"
  }
 },
 "nbformat": 4,
 "nbformat_minor": 2
}
